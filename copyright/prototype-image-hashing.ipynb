{
 "cells": [
  {
   "cell_type": "code",
   "execution_count": 42,
   "id": "96fe2ec2",
   "metadata": {},
   "outputs": [],
   "source": [
    "import os\n",
    "from PIL import Image\n",
    "import imagehash\n",
    "from decimal import Decimal\n",
    "from typing import Tuple\n"
   ]
  },
  {
   "cell_type": "code",
   "execution_count": 43,
   "id": "33507063",
   "metadata": {},
   "outputs": [],
   "source": [
    "import inspect\n",
    "\n",
    "def fname():\n",
    "    return inspect.currentframe().f_back.f_code.co_name\n",
    "\n"
   ]
  },
  {
   "cell_type": "code",
   "execution_count": 44,
   "id": "a053b437",
   "metadata": {},
   "outputs": [],
   "source": [
    "crs = [\n",
    "    \"data-copyrighted-imgs/2023-10-15-luporini.jpg\",\n",
    "    \"data-copyrighted-imgs/2023-08-10-erni.jpeg\"\n",
    "]"
   ]
  },
  {
   "cell_type": "code",
   "execution_count": 45,
   "id": "790d7b93",
   "metadata": {},
   "outputs": [],
   "source": [
    "\n",
    "type TCompositeHash = Tuple[str, str, str, str]"
   ]
  },
  {
   "cell_type": "code",
   "execution_count": 46,
   "id": "a3abb730",
   "metadata": {},
   "outputs": [],
   "source": [
    "def compute_composite_hash(image_path: str) -> TCompositeHash:\n",
    "    img = Image.open(image_path)\n",
    "    hashes = (imagehash.average_hash(img), imagehash.phash(img), imagehash.dhash(img), imagehash.whash(img))\n",
    "\n",
    "    return tuple(f\"{h}\" for h in hashes)"
   ]
  },
  {
   "cell_type": "code",
   "execution_count": 47,
   "id": "d7127cea",
   "metadata": {},
   "outputs": [],
   "source": [
    "h = imagehash.average_hash(Image.open(crs[0]))"
   ]
  },
  {
   "cell_type": "code",
   "execution_count": 48,
   "id": "534d44e5",
   "metadata": {},
   "outputs": [
    {
     "data": {
      "text/plain": [
       "'fffcf8182c082020'"
      ]
     },
     "execution_count": 48,
     "metadata": {},
     "output_type": "execute_result"
    }
   ],
   "source": [
    "f\"{h}\""
   ]
  },
  {
   "cell_type": "code",
   "execution_count": 49,
   "id": "1a43873c",
   "metadata": {},
   "outputs": [],
   "source": [
    "def serialize_hash(hash: TCompositeHash) -> str:\n",
    "    return \", \".join(hash)\n",
    "\n",
    "def deserialize_hash(hash_str: str) -> TCompositeHash:\n",
    "    return tuple(hash_str.split(\", \"))"
   ]
  },
  {
   "cell_type": "code",
   "execution_count": 50,
   "id": "dd1c645d",
   "metadata": {},
   "outputs": [],
   "source": [
    "def _decode_single_hash(hash_str: str) -> imagehash.ImageHash:\n",
    "    if not hash_str:\n",
    "        raise ValueError(f\"{__name__}::Empty hash string provided\")\n",
    "    try:\n",
    "        return imagehash.hex_to_hash(hash_str)\n",
    "    except Exception as e:\n",
    "        raise e.__class__(f\"{fname()}::Unexpected '{e.__class__.__name__}' while decoding hash string '{hash_str}': {e}\") from e\n",
    "\n",
    "def _decode_hash(composite_hash_str: str, separator: str, lenght: int) -> TCompositeHash:\n",
    "    if not composite_hash_str:\n",
    "        raise ValueError(f\"{fname()}::Empty hash string provided\")\n",
    "\n",
    "    attempt = tuple(_decode_single_hash(h) for h in composite_hash_str.split(separator))\n",
    "\n",
    "    if len(attempt) != lenght:\n",
    "        raise ValueError(f\"{fname()}::Invalid hash string provided, expected {lenght} hashes, got {len(attempt)}\")\n",
    "\n",
    "    return attempt"
   ]
  },
  {
   "cell_type": "code",
   "execution_count": 51,
   "id": "c32a7c7f",
   "metadata": {},
   "outputs": [],
   "source": [
    "from typing import Literal\n",
    "\n",
    "\n",
    "def _single_hash_difference(hash1: str, hash2: str) -> Decimal:\n",
    "    h1 = _decode_single_hash(hash1)\n",
    "    h2 = _decode_single_hash(hash2)\n",
    "    diff = h1 - h2\n",
    "    return Decimal(diff)\n",
    "\n",
    "\n",
    "def hash_difference(hash1: TCompositeHash, hash2: TCompositeHash, lenght: int) -> Decimal:\n",
    "    if not hash1 or not hash2:\n",
    "        raise ValueError(f\"{fname()}::At least one empty hash string provided: '{hash1}', '{hash2}'\")\n",
    "\n",
    "    if len(hash1) != lenght or len(hash2) != lenght:\n",
    "        raise ValueError(f\"{fname()}::At least one invalid composite hash string provided, expected {lenght} serialized hashes, got {len(hash1)} and {len(hash2)}\")\n",
    "\n",
    "    diff = (_single_hash_difference(h1, h2) for h1, h2 in zip(hash1, hash2))\n",
    "\n",
    "    avg_diff = Decimal(sum(diff)) / Decimal(len(hash1))\n",
    "    \n",
    "    return avg_diff\n",
    "\n",
    "\n",
    "type THashComparison = Literal[\n",
    "    \"identical\",\n",
    "    \"similar\",\n",
    "    \"different\"\n",
    "]\n",
    "\n",
    "\n",
    "def hash_categorization(hash1: TCompositeHash, hash2: TCompositeHash, identity_threshold: int, similarity_threshold: int, lenght: int) -> THashComparison:\n",
    "\n",
    "    diff = hash_difference(hash1, hash2, lenght) \n",
    "\n",
    "    result: THashComparison\n",
    "\n",
    "    if diff <= identity_threshold:\n",
    "        result = \"identical\"\n",
    "    elif diff <= similarity_threshold:\n",
    "        result = \"similar\"\n",
    "    else:\n",
    "        result = \"different\"\n",
    "\n",
    "    return result\n",
    "    \n"
   ]
  },
  {
   "cell_type": "code",
   "execution_count": 52,
   "id": "9c1023a5",
   "metadata": {},
   "outputs": [],
   "source": [
    "h1 = compute_composite_hash(crs[0])\n",
    "h2 = compute_composite_hash(crs[1])"
   ]
  },
  {
   "cell_type": "code",
   "execution_count": 54,
   "id": "872a4a6b",
   "metadata": {},
   "outputs": [
    {
     "data": {
      "text/plain": [
       "Decimal('30.25')"
      ]
     },
     "execution_count": 54,
     "metadata": {},
     "output_type": "execute_result"
    }
   ],
   "source": [
    "hash_difference(h1, h2, 4)"
   ]
  },
  {
   "cell_type": "code",
   "execution_count": 56,
   "id": "86ea95e9",
   "metadata": {},
   "outputs": [
    {
     "data": {
      "text/plain": [
       "'identical'"
      ]
     },
     "execution_count": 56,
     "metadata": {},
     "output_type": "execute_result"
    }
   ],
   "source": [
    "IDENTITY_THRESHOLD = 5\n",
    "SIMILARITY_THRESHOLD = 10\n",
    "\n",
    "hash_categorization(h1, h1, IDENTITY_THRESHOLD, SIMILARITY_THRESHOLD, 4)"
   ]
  },
  {
   "cell_type": "code",
   "execution_count": 57,
   "id": "7b86eefe",
   "metadata": {},
   "outputs": [],
   "source": [
    "from typing import Dict, NamedTuple\n",
    "\n",
    "\n",
    "class KnownImage(NamedTuple):\n",
    "    id: str\n",
    "    hash: TCompositeHash\n",
    "\n",
    "type KnownImageComparison = Dict[\n",
    "    str,  # image id\n",
    "    THashComparison  # comparison result\n",
    "]\n",
    "\n",
    "\n",
    "def all_hash_categorizations(\n",
    "    source_image_path: str,\n",
    "    known_image_hashes: Tuple[KnownImage],\n",
    "    identity_threshold: int,\n",
    "    similarity_threshold: int,\n",
    "    lenght: int\n",
    ") -> KnownImageComparison:\n",
    "    \"\"\"\n",
    "    Compare a source image hash with a list of known image hashes and return the comparison results.\n",
    "    \n",
    "    :param source_image_path: Path to the source image.\n",
    "    :param known_image_hashes: List of known image hashes.\n",
    "    :param identity_threshold: Threshold for identical images.\n",
    "    :param similarity_threshold: Threshold for similar images.\n",
    "    :param lenght: Number of hashes in the composite hash.\n",
    "    :return: Dictionary with image IDs as keys and comparison results as values.\n",
    "    \"\"\"\n",
    "    \n",
    "    source_hash = compute_composite_hash(source_image_path)\n",
    "    \n",
    "    result = {\n",
    "        img.id: hash_categorization(source_hash, img.hash, identity_threshold, similarity_threshold, lenght)\n",
    "        for img in known_image_hashes\n",
    "    }\n",
    "    \n",
    "    return result"
   ]
  },
  {
   "cell_type": "code",
   "execution_count": 71,
   "id": "c5101546",
   "metadata": {},
   "outputs": [],
   "source": [
    "known_images = (\n",
    "    KnownImage(id=\"luporini-23\", hash=compute_composite_hash(crs[0])),\n",
    "    KnownImage(id=\"erni-23\", hash=compute_composite_hash(crs[1]))\n",
    ")\n",
    "\n"
   ]
  },
  {
   "cell_type": "code",
   "execution_count": 73,
   "id": "40ef6b0e",
   "metadata": {},
   "outputs": [],
   "source": [
    "d = all_hash_categorizations(\n",
    "    source_image_path=crs[1],\n",
    "    known_image_hashes=known_images,\n",
    "    identity_threshold=IDENTITY_THRESHOLD,\n",
    "    similarity_threshold=SIMILARITY_THRESHOLD,\n",
    "    lenght=4\n",
    ")"
   ]
  },
  {
   "cell_type": "code",
   "execution_count": 74,
   "id": "f6a510db",
   "metadata": {},
   "outputs": [
    {
     "name": "stdout",
     "output_type": "stream",
     "text": [
      "{'luporini-23': 'different', 'erni-23': 'identical'}\n"
     ]
    }
   ],
   "source": [
    "print(f\"{d}\")"
   ]
  },
  {
   "cell_type": "code",
   "execution_count": 75,
   "id": "d6a764a1",
   "metadata": {},
   "outputs": [
    {
     "name": "stdout",
     "output_type": "stream",
     "text": [
      "f1f1e3cf98f0d800, eceb68cc18b1479c, a323071c30e1b037, f1f1e3cfdcf09000\n"
     ]
    }
   ],
   "source": [
    "print(serialize_hash(compute_composite_hash(crs[1])))"
   ]
  },
  {
   "cell_type": "code",
   "execution_count": 76,
   "id": "13971fa1",
   "metadata": {},
   "outputs": [],
   "source": [
    "def filter_hash_categorizations(\n",
    "    hash_categorizations: KnownImageComparison,\n",
    "    filter_values: Tuple[THashComparison, ...]\n",
    ") -> KnownImageComparison:\n",
    "    \n",
    "    \"\"\"\n",
    "    Filter the hash categorizations based on the provided filter values.\n",
    "    \n",
    "    :param hash_categorizations: Dictionary with image IDs as keys and comparison results as values.\n",
    "    :param filter_values: Tuple of filter values to include in the result.\n",
    "    :return: Filtered dictionary with image IDs as keys and comparison results as values.\n",
    "    \"\"\"\n",
    "    \n",
    "    return {img_id: result for img_id, result in hash_categorizations.items() if result in filter_values}\n",
    "    "
   ]
  },
  {
   "cell_type": "code",
   "execution_count": 77,
   "id": "cc02c89f",
   "metadata": {},
   "outputs": [
    {
     "data": {
      "text/plain": [
       "{'erni-23': 'identical'}"
      ]
     },
     "execution_count": 77,
     "metadata": {},
     "output_type": "execute_result"
    }
   ],
   "source": [
    "filter_hash_categorizations(\n",
    "    hash_categorizations=d,\n",
    "    filter_values=(\"identical\", \"similar\")\n",
    ")"
   ]
  }
 ],
 "metadata": {
  "kernelspec": {
   "display_name": ".venv",
   "language": "python",
   "name": "python3"
  },
  "language_info": {
   "codemirror_mode": {
    "name": "ipython",
    "version": 3
   },
   "file_extension": ".py",
   "mimetype": "text/x-python",
   "name": "python",
   "nbconvert_exporter": "python",
   "pygments_lexer": "ipython3",
   "version": "3.13.0"
  }
 },
 "nbformat": 4,
 "nbformat_minor": 5
}
